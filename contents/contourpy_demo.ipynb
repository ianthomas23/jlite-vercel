{
 "cells": [
  {
   "cell_type": "code",
   "execution_count": null,
   "metadata": {},
   "outputs": [],
   "source": [
    "import numpy as np\n",
    "from contourpy import contour_generator\n",
    "from contourpy.util.mpl_renderer import MplRenderer as Renderer\n",
    "\n",
    "x, y = np.meshgrid(np.arange(7), np.arange(6))\n",
    "z = np.sin(x*np.pi/6)*np.sin(y*np.pi/5)\n",
    "mask = np.zeros_like(z, dtype=bool)\n",
    "mask[(0, 2, 2, 4, 5), (0, 2, 3, 4, 1)] = True\n",
    "z = np.ma.array(z, mask=mask)\n",
    "\n",
    "levels = np.linspace(0.0, 1.0, 4)\n",
    "renderer = Renderer(ncols=2, figsize=(6, 3))\n",
    "\n",
    "for ax, corner_mask in enumerate([False, True]):\n",
    "    cont_gen = contour_generator(x, y, z, corner_mask=corner_mask)\n",
    "\n",
    "    for i in range(len(levels)-1):\n",
    "        filled = cont_gen.filled(levels[i], levels[i+1])\n",
    "        renderer.filled(filled, cont_gen.fill_type, ax=ax, color=f\"C{i}\")\n",
    "\n",
    "    renderer.grid(x, y, ax=ax, color=\"gray\", alpha=0.2)\n",
    "    renderer.mask(x, y, z, ax=ax, color=\"red\")\n",
    "    renderer.title(f\"corner_mask = {corner_mask}\", ax=ax)\n",
    "\n",
    "renderer.show()"
   ]
  }
 ],
 "metadata": {
    "kernelspec": {
     "display_name": "xeus-python",
     "language": "python",
     "name": "xeus-python"
    },
    "language_info": {
     "codemirror_mode": {
      "name": "ipython",
      "version": 3
     },
     "file_extension": ".py",
     "mimetype": "text/x-python",
     "name": "python",
     "nbconvert_exporter": "python",
     "pygments_lexer": "ipython3",
     "version": "3.10.4"
   }
 },
 "nbformat": 4,
 "nbformat_minor": 4
}
